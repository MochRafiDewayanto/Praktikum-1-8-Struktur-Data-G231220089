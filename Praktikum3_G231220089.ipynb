{
  "nbformat": 4,
  "nbformat_minor": 0,
  "metadata": {
    "colab": {
      "provenance": [],
      "authorship_tag": "ABX9TyPF6YtMwDsPBPQR/d50Sy63",
      "include_colab_link": true
    },
    "kernelspec": {
      "name": "python3",
      "display_name": "Python 3"
    },
    "language_info": {
      "name": "python"
    }
  },
  "cells": [
    {
      "cell_type": "markdown",
      "metadata": {
        "id": "view-in-github",
        "colab_type": "text"
      },
      "source": [
        "<a href=\"https://colab.research.google.com/github/MochRafiDewayanto/Praktikum-1-8-Struktur-Data-G231220089/blob/main/Praktikum3_G231220089.ipynb\" target=\"_parent\"><img src=\"https://colab.research.google.com/assets/colab-badge.svg\" alt=\"Open In Colab\"/></a>"
      ]
    },
    {
      "cell_type": "markdown",
      "source": [
        "**Contoh**"
      ],
      "metadata": {
        "id": "kHK-vVOdjGbP"
      }
    },
    {
      "cell_type": "code",
      "execution_count": null,
      "metadata": {
        "colab": {
          "base_uri": "https://localhost:8080/"
        },
        "id": "L4AWtVIwf_nG",
        "outputId": "858a6d23-5290-4f55-9958-ae735c7ec934"
      },
      "outputs": [
        {
          "output_type": "stream",
          "name": "stdout",
          "text": [
            "geeksforgeeks\n"
          ]
        }
      ],
      "source": [
        "char_list = ['g', 'e', 'e', 'k', 's', 'f', 'o', 'r', 'g', 'e', 'e', 'k', 's']\n",
        "\n",
        "result = ''.join(char_list)\n",
        "\n",
        "print(result)"
      ]
    },
    {
      "cell_type": "markdown",
      "source": [
        "**Program Python untuk mengonversi daftar karakter**"
      ],
      "metadata": {
        "id": "4efgpG19jA9D"
      }
    },
    {
      "cell_type": "code",
      "source": [
        "def convert(s):\n",
        "    new = \"\"\n",
        "    for x in s:\n",
        "        new += x\n",
        "    return new\n",
        "\n",
        "s = ['g', 'e', 'e', 'k', 's', 'f', 'o', 'r', 'g', 'e', 'e', 'k', 's']\n",
        "print(convert(s))"
      ],
      "metadata": {
        "colab": {
          "base_uri": "https://localhost:8080/"
        },
        "id": "jzxw0jUuhVMj",
        "outputId": "113caf4a-84c6-41d2-e2d8-5a169c348114"
      },
      "execution_count": null,
      "outputs": [
        {
          "output_type": "stream",
          "name": "stdout",
          "text": [
            "geeksforgeeks\n"
          ]
        }
      ]
    },
    {
      "cell_type": "markdown",
      "source": [
        "**Tugas**"
      ],
      "metadata": {
        "id": "RGIkW0ehjBNc"
      }
    },
    {
      "cell_type": "code",
      "source": [
        "# Masukkan daftar karakter\n",
        "char_list = ['p', 'r', 'o', 'g', 'r', 'a', 'm', 'm', 'i', 'n', 'g']\n",
        "\n",
        "# Ubah daftar karakter menjadi rangkaian\n",
        "result = ''.join(char_list)\n",
        "\n",
        "# Hasil result\n",
        "print(result)"
      ],
      "metadata": {
        "colab": {
          "base_uri": "https://localhost:8080/"
        },
        "id": "61Ae57YYiUbi",
        "outputId": "fb6f65a0-65aa-49a8-f7c3-c1df747f5cd6"
      },
      "execution_count": null,
      "outputs": [
        {
          "output_type": "stream",
          "name": "stdout",
          "text": [
            "programming\n"
          ]
        }
      ]
    }
  ]
}