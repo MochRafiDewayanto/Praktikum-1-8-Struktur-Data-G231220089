{
  "nbformat": 4,
  "nbformat_minor": 0,
  "metadata": {
    "colab": {
      "provenance": [],
      "authorship_tag": "ABX9TyPGutEaQ9hrTBEieP8vcyBW",
      "include_colab_link": true
    },
    "kernelspec": {
      "name": "python3",
      "display_name": "Python 3"
    },
    "language_info": {
      "name": "python"
    }
  },
  "cells": [
    {
      "cell_type": "markdown",
      "metadata": {
        "id": "view-in-github",
        "colab_type": "text"
      },
      "source": [
        "<a href=\"https://colab.research.google.com/github/MochRafiDewayanto/Praktikum-1-8-Struktur-Data-G231220089/blob/main/Praktikum4_G_231_22_0089.ipynb\" target=\"_parent\"><img src=\"https://colab.research.google.com/assets/colab-badge.svg\" alt=\"Open In Colab\"/></a>"
      ]
    },
    {
      "cell_type": "code",
      "execution_count": null,
      "metadata": {
        "colab": {
          "base_uri": "https://localhost:8080/"
        },
        "id": "JeLuH6_G5bul",
        "outputId": "e8ab7627-6262-4d3b-c58e-cc0955bfc2c5"
      },
      "outputs": [
        {
          "output_type": "stream",
          "name": "stdout",
          "text": [
            "\"abcdefghijklmnopqrstuvwxyz\"\n",
            "adalah pangram\n"
          ]
        }
      ],
      "source": [
        "mark = [False] * 26\n",
        "\n",
        "\n",
        "def isPangram(s):\n",
        "    for char in s:\n",
        "\n",
        "        if 'a' <= char <= 'z':\n",
        "            mark[ord(char) - ord('a')] = True\n",
        "        elif 'A' <= char <= 'Z':\n",
        "            mark[ord(char) - ord('A')] = False\n",
        "    for i in range(26):\n",
        "\n",
        "        if mark[i] == False:\n",
        "            return False\n",
        "\n",
        "\n",
        "    return True\n",
        "input_string = \"abcdefghijklmnopqrstuvwxyz\"\n",
        "# Memeriksa apakah string adalah pangram atau bukan\n",
        "if isPangram(input_string):\n",
        "    print('\"' + input_string + '\"')\n",
        "    print(\"adalah pangram\")\n",
        "else:\n",
        "    print('\"' + input_string + '\"')\n",
        "    print(\"bukan pangram\")"
      ]
    }
  ]
}