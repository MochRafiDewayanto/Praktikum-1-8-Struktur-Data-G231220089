{
  "nbformat": 4,
  "nbformat_minor": 0,
  "metadata": {
    "colab": {
      "provenance": [],
      "authorship_tag": "ABX9TyPeYeI4WYW9HHnhEZnID3Lp",
      "include_colab_link": true
    },
    "kernelspec": {
      "name": "python3",
      "display_name": "Python 3"
    },
    "language_info": {
      "name": "python"
    }
  },
  "cells": [
    {
      "cell_type": "markdown",
      "metadata": {
        "id": "view-in-github",
        "colab_type": "text"
      },
      "source": [
        "<a href=\"https://colab.research.google.com/github/MochRafiDewayanto/Praktikum-1-8-Struktur-Data-G231220089/blob/main/Praktikum2_G_231_22_0089.ipynb\" target=\"_parent\"><img src=\"https://colab.research.google.com/assets/colab-badge.svg\" alt=\"Open In Colab\"/></a>"
      ]
    },
    {
      "cell_type": "markdown",
      "source": [
        "**Praktikum 2 Struktur Data**"
      ],
      "metadata": {
        "id": "ZvKNFOyw-vch"
      }
    },
    {
      "cell_type": "code",
      "execution_count": null,
      "metadata": {
        "colab": {
          "base_uri": "https://localhost:8080/"
        },
        "id": "FtFqmYY_90n1",
        "outputId": "ba02b143-61e9-4d1f-9793-8d8e5f360042"
      },
      "outputs": [
        {
          "output_type": "stream",
          "name": "stdout",
          "text": [
            "program 1\n",
            "('tuple', False, 3.2, 1)\n",
            "program 2\n",
            "(5, 10, 15, 20, 25)\n",
            "(5,)\n",
            "program 3\n",
            "(4, 6, 2, 8, 3, 1)\n",
            "(4, 6, 2, 8, 3, 1, 9)\n",
            "(4, 6, 2, 8, 3, 15, 20, 25, 4, 6, 2, 8, 3)\n",
            "(4, 6, 2, 8, 3, 15, 20, 25, 4, 6, 2, 8, 3, 30)\n",
            "program 4\n",
            "(4, 6, 2, 8, 3, 1)\n",
            "(4, 6, 2, 8, 3, 1, 9)\n",
            "(4, 6, 2, 8, 3, 15, 20, 25, 4, 6, 2, 8, 3)\n",
            "(4, 6, 2, 8, 3, 15, 20, 25, 4, 6, 2, 8, 3, 30)\n"
          ]
        }
      ],
      "source": [
        "#contoh penggunaan tuple\n",
        "\n",
        "#program 1\n",
        "#Create a tuple with different data types\n",
        "print(\"program 1\")\n",
        "tuplex = (\"tuple\", False, 3.2, 1)\n",
        "print(tuplex)\n",
        "\n",
        "#program 2\n",
        "print(\"program 2\")\n",
        "#Create a tuple with numbers\n",
        "tuplex = 5, 10, 15, 20, 25\n",
        "print(tuplex)\n",
        "#Create a tuple of one item\n",
        "tuplex = 5,\n",
        "print(tuplex)\n",
        "\n",
        "print(\"program 3\")\n",
        "#program 3\n",
        "#create a tuple\n",
        "tuplex = (4, 6, 2, 8, 3, 1)\n",
        "print(tuplex)\n",
        "#tuples are immutable, so you can not add new elements\n",
        "#using merge of tuples with the + operator you can add an element and it will create a new tuple\n",
        "tuplex = tuplex + (9,)\n",
        "print(tuplex)\n",
        "#adding items in a specific index\n",
        "tuplex = tuplex[:5] + (15, 20, 25) + tuplex[:5]\n",
        "print(tuplex)\n",
        "#converting the tuple to list\n",
        "listx = list(tuplex)\n",
        "#use different ways to add items in list\n",
        "listx.append(30)\n",
        "tuplex = tuple(listx)\n",
        "print(tuplex)\n",
        "\n",
        "print(\"program 4\")\n",
        "#program 4\n",
        "#create a tuple\n",
        "tuplex = (4, 6, 2, 8, 3, 1)\n",
        "print(tuplex)\n",
        "#tuples are immutable, so you can not add new elements\n",
        "#using merge of tuples with the + operator you can add an element and it will create a new tuple\n",
        "tuplex = tuplex + (9,)\n",
        "print(tuplex)\n",
        "#adding items in a specific index\n",
        "tuplex = tuplex[:5] + (15, 20, 25) + tuplex[:5]\n",
        "print(tuplex)\n",
        "#converting the tuple to list\n",
        "listx = list(tuplex)\n",
        "#use different ways to add items in list\n",
        "listx.append(30)\n",
        "tuplex = tuple(listx)\n",
        "print(tuplex)"
      ]
    },
    {
      "cell_type": "code",
      "source": [
        "person = {'Name' : 'Moch Rafi Dewayanto', 'Jobdesk' : 'Admin Order'}\n",
        "print(person['Name'])\n",
        "print(person['Jobdesk'])\n"
      ],
      "metadata": {
        "colab": {
          "base_uri": "https://localhost:8080/"
        },
        "id": "bgokGBVJ-aGt",
        "outputId": "ac98287c-64ee-4be9-db68-6842a0b24bc9"
      },
      "execution_count": null,
      "outputs": [
        {
          "output_type": "stream",
          "name": "stdout",
          "text": [
            "Moch Rafi Dewayanto\n",
            "Admin Order\n"
          ]
        }
      ]
    }
  ]
}