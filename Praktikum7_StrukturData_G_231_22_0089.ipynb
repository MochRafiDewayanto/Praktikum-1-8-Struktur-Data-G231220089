{
  "nbformat": 4,
  "nbformat_minor": 0,
  "metadata": {
    "colab": {
      "provenance": [],
      "authorship_tag": "ABX9TyMrPta38RjNc0RMZC0Bo5dy",
      "include_colab_link": true
    },
    "kernelspec": {
      "name": "python3",
      "display_name": "Python 3"
    },
    "language_info": {
      "name": "python"
    }
  },
  "cells": [
    {
      "cell_type": "markdown",
      "metadata": {
        "id": "view-in-github",
        "colab_type": "text"
      },
      "source": [
        "<a href=\"https://colab.research.google.com/github/MochRafiDewayanto/Praktikum-1-8-Struktur-Data-G231220089/blob/main/Praktikum7_StrukturData_G_231_22_0089.ipynb\" target=\"_parent\"><img src=\"https://colab.research.google.com/assets/colab-badge.svg\" alt=\"Open In Colab\"/></a>"
      ]
    },
    {
      "cell_type": "code",
      "execution_count": 2,
      "metadata": {
        "colab": {
          "base_uri": "https://localhost:8080/"
        },
        "id": "XVs_o-uUrznR",
        "outputId": "9403fd91-8cae-42a3-c68e-eba18da20c66"
      },
      "outputs": [
        {
          "output_type": "stream",
          "name": "stdout",
          "text": [
            "Preorder Traversal of binary tree is\n",
            "1 2 4 5 3 "
          ]
        }
      ],
      "source": [
        "# Preorder Binary Tree\n",
        "\n",
        "class Node:\n",
        "    def __init__(self, key):\n",
        "        self.left = None\n",
        "        self.right = None\n",
        "        self.val = key\n",
        "\n",
        "# A function to do preorder tree traversal\n",
        "def printPreorder(root):\n",
        "    if root:\n",
        "        # First print the data of the node\n",
        "        print(root.val, end=\" \")\n",
        "\n",
        "        # Then recur on left child\n",
        "        printPreorder(root.left)\n",
        "\n",
        "        # Finally recur on right child\n",
        "        printPreorder(root.right)\n",
        "\n",
        "# Driver code\n",
        "if __name__ == \"__main__\":\n",
        "    root = Node(1)\n",
        "    root.left = Node(2)\n",
        "    root.right = Node(3)\n",
        "    root.left.left = Node(4)\n",
        "    root.left.right = Node(5)\n",
        "\n",
        "    # Function call\n",
        "    print(\"Preorder Traversal of binary tree is\")\n",
        "    printPreorder(root)\n"
      ]
    },
    {
      "cell_type": "code",
      "source": [
        "# Python3 program for tree traversals\n",
        "# Inorder\n",
        "class Node:\n",
        "    def __init__(self, key):\n",
        "        self.left = None\n",
        "        self.right = None\n",
        "        self.val = key\n",
        "\n",
        "\n",
        "# A Function to do inorder tree traversal\n",
        "def printInorder(root):\n",
        "\n",
        "    if root:\n",
        "\n",
        "        # First recur on left child\n",
        "        printInorder(root.left)\n",
        "\n",
        "        # then print the data of the node\n",
        "        print(root.val),\n",
        "\n",
        "        # now recur on the right child\n",
        "        printInorder(root.right)\n",
        "\n",
        "# Driver code\n",
        "if __name__ == \"__main__\":\n",
        "    root = Node(1)\n",
        "    root.left = Node(2)\n",
        "    root.right = Node(3)\n",
        "    root.left.left = Node(4)\n",
        "    root.left.right = Node(5)\n",
        "\n",
        "    # Function call\n",
        "    print (\"\\nInorder traversal of binary tree is\")\n",
        "    printInorder(root)"
      ],
      "metadata": {
        "colab": {
          "base_uri": "https://localhost:8080/"
        },
        "id": "-qFAEKLpsAPX",
        "outputId": "d5347957-f856-4a0c-fb1f-8b802f22c12d"
      },
      "execution_count": 3,
      "outputs": [
        {
          "output_type": "stream",
          "name": "stdout",
          "text": [
            "\n",
            "Inorder traversal of binary tree is\n",
            "4\n",
            "2\n",
            "5\n",
            "1\n",
            "3\n"
          ]
        }
      ]
    },
    {
      "cell_type": "code",
      "source": [
        "# Postorder Binary Tree\n",
        "\n",
        "class Node:\n",
        "    def __init__(self, key):\n",
        "        self.left = None\n",
        "        self.right = None\n",
        "        self.val = key\n",
        "\n",
        "# A Function to do postorder tree traversal\n",
        "def printPostorder(root):\n",
        "    if root:\n",
        "        # First recur on left child\n",
        "        printPostorder(root.left)\n",
        "\n",
        "        # Then recur on right child\n",
        "        printPostorder(root.right)\n",
        "\n",
        "        # Now print the data of node\n",
        "        print(root.val, end=\" \")\n",
        "\n",
        "# Driver Code\n",
        "if __name__ == \"__main__\":\n",
        "    root = Node(1)\n",
        "    root.left = Node(2)\n",
        "    root.right = Node(3)\n",
        "    root.left.left = Node(4)\n",
        "    root.left.right = Node(5)\n",
        "\n",
        "    # Function call\n",
        "    print(\"\\nPostorder traversal of binary tree is\")\n",
        "    printPostorder(root)"
      ],
      "metadata": {
        "colab": {
          "base_uri": "https://localhost:8080/"
        },
        "id": "6ofZNCFYsFs1",
        "outputId": "0775b6f4-fd9f-44c9-90ee-0ad0053000a5"
      },
      "execution_count": 4,
      "outputs": [
        {
          "output_type": "stream",
          "name": "stdout",
          "text": [
            "\n",
            "Postorder traversal of binary tree is\n",
            "4 5 2 3 1 "
          ]
        }
      ]
    }
  ]
}