{
  "nbformat": 4,
  "nbformat_minor": 0,
  "metadata": {
    "colab": {
      "provenance": [],
      "authorship_tag": "ABX9TyNZoGjfLXbVxa/IMhLpLpix",
      "include_colab_link": true
    },
    "kernelspec": {
      "name": "python3",
      "display_name": "Python 3"
    },
    "language_info": {
      "name": "python"
    }
  },
  "cells": [
    {
      "cell_type": "markdown",
      "metadata": {
        "id": "view-in-github",
        "colab_type": "text"
      },
      "source": [
        "<a href=\"https://colab.research.google.com/github/MochRafiDewayanto/Praktikum-1-8-Struktur-Data-G231220089/blob/main/Praktikum5_G_231_22_0089.ipynb\" target=\"_parent\"><img src=\"https://colab.research.google.com/assets/colab-badge.svg\" alt=\"Open In Colab\"/></a>"
      ]
    },
    {
      "cell_type": "code",
      "execution_count": null,
      "metadata": {
        "colab": {
          "base_uri": "https://localhost:8080/"
        },
        "id": "u66NkwkXadtP",
        "outputId": "8300996e-cc31-47a9-cc3b-d3bb8b1e2c43"
      },
      "outputs": [
        {
          "output_type": "stream",
          "name": "stdout",
          "text": [
            "Array yang sudah urut:\n",
            " 1  5  4  2  6  7  3 "
          ]
        }
      ],
      "source": [
        "# Program Python untuk implementasi Bubble Sort\n",
        "def bubbleSort(arr):\n",
        " # Mendapaptkan panjang array\n",
        " n = len(arr)\n",
        " # flag untuk melacak ada pertukaran selama satu iterasi\n",
        " swapped = False\n",
        "\n",
        " # Iterasi untuk setiap passthrough pada array\n",
        " for i in range(n-1):\n",
        "  # Iterasi dalam untuk membandingkan dan menukar elemen\n",
        "  for j in range(0, n-i-1):\n",
        "    # Membandingkan elemen yang berdekatan dan menukar jika :\n",
        "    if arr[j] > arr[j + 1]:\n",
        "      swapped = True\n",
        "      arr[j], arr[j + 1] = arr[j + 1], arr[j]\n",
        "    # Mencoba Pertukaran elemen menggunakan if else\n",
        "    if not swapped:\n",
        "      break\n",
        "    else:\n",
        "      swapped = False\n",
        "\n",
        "# Angka pengujian\n",
        "arr = [1, 5, 4, 2, 6, 7, 3]\n",
        "bubbleSort(arr)\n",
        "# Menampilkan array yang sudah urut\n",
        "print(\"Array yang sudah urut:\")\n",
        "for i in range(len(arr)):\n",
        "  print(\"% d\" % arr[i], end=\" \")\n"
      ]
    },
    {
      "cell_type": "code",
      "source": [
        "# Program Python untuk implementasi Selection Sort\n",
        "def selectionsort(ab):\n",
        " C = len(ab)\n",
        " swapped = False\n",
        "\n",
        " # Array yang akan diurutkan\n",
        "ab = [10, 8, 12, 9, 11]\n",
        "\n",
        "# Iterasi melalui setiap elemen array\n",
        "for i in range(len(ab)):\n",
        "    # Inisialisasi indeks minimum\n",
        "    min_idx = i\n",
        "\n",
        "    # Iterasi untuk mencari elemen terkecil dari sisa array\n",
        "    for j in range(i + 1, len(ab)):\n",
        "        # Membandingkan elemen dengan elemen minimum yang ditemukan\n",
        "        if ab[j] < ab[min_idx]:\n",
        "            min_idx = j\n",
        "\n",
        "    # Menukar elemen terkecil dengan elemen pada posisi i\n",
        "    if i != min_idx:\n",
        "        ab[i], ab[min_idx] = ab[min_idx], ab[i]\n",
        "\n",
        "# Menampilkan array yang sudah terurut\n",
        "print(\"Array yang sudah urut:\")\n",
        "for i in range(len(ab)):\n",
        "    print(\"%d\" % ab[i], end=\" \")"
      ],
      "metadata": {
        "colab": {
          "base_uri": "https://localhost:8080/"
        },
        "id": "_-ZV1RsAa6gw",
        "outputId": "f2573d91-decf-4d11-9fd0-b8f18da2d2f5"
      },
      "execution_count": null,
      "outputs": [
        {
          "output_type": "stream",
          "name": "stdout",
          "text": [
            "Array yang sudah urut:\n",
            "8 9 10 11 12 "
          ]
        }
      ]
    },
    {
      "cell_type": "code",
      "source": [
        "# Program Python untuk implementasi Insertion Sort\n",
        "def InsertionSort(ab):\n",
        "    # Iterasi mulai dari indeks kedua elemen hingga panjang array\n",
        "    for p in range(1, len(ab)):\n",
        "        # Mengambil elemen yang akan diinsert\n",
        "        key = arr[p]\n",
        "        # Menyiapkan indeks untuk membandingkan dan menyisipkan elemen\n",
        "        j = p - 1\n",
        "\n",
        "        # Memindahkan elemen-elemen yang lebih besar dari key ke posisi selanjutnya\n",
        "        while j >= 0 and key < arr[j]:\n",
        "            arr[j + 1] = arr[j]\n",
        "            j -= 1\n",
        "\n",
        "        # Memasukkan key ke posisi yang benar\n",
        "        if j != p - 1:\n",
        "            arr[j + 1] = key\n",
        "        else:\n",
        "            arr[p] = key\n",
        "\n",
        "# Angka pengujian\n",
        "arr = [16, 13, 19, 18, 14, 15]\n",
        "InsertionSort(ab)\n",
        "\n",
        "\n",
        "# Menampilkan array yang sudah terurut\n",
        "print(\"Array yang sudah terurut:\")\n",
        "for p in range(len(ab)):\n",
        "    print(\"%d\" % arr[p], end=\" \")\n"
      ],
      "metadata": {
        "colab": {
          "base_uri": "https://localhost:8080/"
        },
        "id": "kqp9yZ7KbKA0",
        "outputId": "270f09fe-e88e-418c-85f3-7040e0646c28"
      },
      "execution_count": null,
      "outputs": [
        {
          "output_type": "stream",
          "name": "stdout",
          "text": [
            "Array yang sudah terurut:\n",
            "13 14 16 18 19 "
          ]
        }
      ]
    }
  ]
}